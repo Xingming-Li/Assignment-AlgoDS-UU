{
  "nbformat": 4,
  "nbformat_minor": 0,
  "metadata": {
    "colab": {
      "provenance": []
    },
    "kernelspec": {
      "name": "python3",
      "display_name": "Python 3"
    },
    "language_info": {
      "name": "python"
    }
  },
  "cells": [
    {
      "cell_type": "markdown",
      "source": [
        "# Using Google Colab\n",
        "\n",
        "Read through the **Getting started** paragraph in the [official documentation](https://colab.research.google.com/). You may also want to take a look into the **More resources** section.\n",
        "\n",
        "To add a new code block or text block, use the buttons in the menus above or hover your mouse between two blocks, where more buttons should appear.\n",
        "\n",
        "To execute all code blocks within this document, select `Runtime -> Run all`. When you submit your solution, this should run without throwing an error.\n",
        "\n",
        "Sometimes, previously defined variables cause trouble in later executions. If this is the case, you can select `Runtime -> Restart runtime` to restart the runtime and erase all previous definitions."
      ],
      "metadata": {
        "id": "FaPfaovG2yjW"
      }
    },
    {
      "cell_type": "markdown",
      "source": [
        "# Work Distribution\n",
        "\n",
        "***Your answer here. (MANDATORY)***"
      ],
      "metadata": {
        "id": "EHTS4x5-pJGK"
      }
    },
    {
      "cell_type": "markdown",
      "source": [
        "# Initialisation\n",
        "\n",
        "This section contains code that is later used to test, measure and plot your implementations. You need to run it once to initialise it.\n",
        "\n",
        "⇩ Click here to initialise the code."
      ],
      "metadata": {
        "id": "HGCavid-yeyz"
      }
    },
    {
      "cell_type": "code",
      "source": [
        "# tests\n",
        "\n",
        "import random\n",
        "\n",
        "def shuffle(list):\n",
        "  random.shuffle(list)\n",
        "  return list\n",
        "\n",
        "tests = [(name, unsorted, sorted(unsorted)) for (name, unsorted) in [\n",
        "    (\"empty list\", []),\n",
        "    (\"one element\", [42]),\n",
        "    (\"digits ascending\", list(range(10))),\n",
        "    (\"digits descending\", list(reversed(range(10)))),\n",
        "    (\"digits shuffled\", shuffle(list(range(10)))),\n",
        "    (\"all entries the same\", [42 for _ in range(10)]),\n",
        "    (\"some duplicates\", shuffle(list(range(10)) + list(range(5)))),\n",
        "    (\"negative numbers\", shuffle([x - 10 for x in list(range(20))])),\n",
        "    (\"float numbers\", shuffle([x * 3.14 for x in list(range(20))])),\n",
        "    (\"mixed numbers\", shuffle([x * 3.14 for x in list(range(10))] + list(range(10)))),\n",
        "    *[(\"random numbers \" + str(idx) + \" (small)\", [random.randrange(1000) for _ in range(20)]) for idx in range(0, 5)],\n",
        "    *[(\"random numbers \" + str(idx) + \" (medium)\", [random.randrange(10000) for _ in range(200)]) for idx in range(5, 10)],\n",
        "    *[(\"random numbers \" + str(idx) + \" (large)\", [random.randrange(100000) for _ in range(2000)]) for idx in range(10, 15)],\n",
        "]]\n",
        "\n",
        "def run_tests(fun):\n",
        "  print(\"executing all tests on %s...\" % (fun.__name__))\n",
        "  ok = 0\n",
        "  err = 0\n",
        "  for name, input, expected in tests:\n",
        "    copy = input.copy()\n",
        "    try:\n",
        "      fun(copy)\n",
        "    except Exception as e:\n",
        "      print(\"Test '%s' raised an exception!\\n  input:     %s\\n  expected:  %s\\n  exception: %s\" % (name, input, expected, e))\n",
        "      raise e\n",
        "    else:\n",
        "      if copy == expected:\n",
        "        print(\"Test '%s' passed!\" % (name))\n",
        "        ok += 1\n",
        "      else:\n",
        "        print(\"Test '%s' failed!\\n  input:     %s\\n  output:    %s\\n  expected:  %s\" % (name, input, copy, expected))\n",
        "        err +=1\n",
        "  print(\"%s (summary): %d/%d OK, %d/%d ERROR\" % (fun.__name__, ok, len(tests), err, len(tests)))\n",
        "\n",
        "# runtime parameters\n",
        "num_samples = 20\n",
        "sizes = [2000 * i for i in range(1, 10)]\n",
        "\n",
        "# runtime measurement\n",
        "import time\n",
        "runtimeDict = {}\n",
        "def measure_runtime(funs):\n",
        "  inputs = [[[random.random() for _ in range(size)] for _ in range(num_samples)] for size in sizes]\n",
        "\n",
        "  for fun in funs:\n",
        "    runtimes = []\n",
        "    for batch in inputs:\n",
        "      batch_rt = []\n",
        "      for input in batch:\n",
        "        copy = input.copy()\n",
        "        start_time = time.time()\n",
        "        fun(copy)\n",
        "        end_time = time.time()\n",
        "        batch_rt.append(end_time - start_time)\n",
        "      runtimes.append(min(batch_rt))\n",
        "    runtimeDict[fun.__name__] = runtimes\n",
        "\n",
        "# runtime plot\n",
        "import matplotlib.pyplot as plt\n",
        "def plot_runtime(funs, funs_checkered=None):\n",
        "  for fun in funs:\n",
        "    plt.plot(sizes, runtimeDict[fun.__name__], label=fun.__name__)\n",
        "  if funs_checkered:\n",
        "    plt.gca().set_prop_cycle(None)\n",
        "    for fun in funs_checkered:\n",
        "      plt.plot(sizes, runtimeDict[fun.__name__], '--', label=fun.__name__)\n",
        "\n",
        "  plt.xlabel('List Length')\n",
        "  plt.ylabel('Runtime (seconds)')\n",
        "  plt.title('Runtime vs List Length')\n",
        "\n",
        "  plt.legend()\n",
        "  plt.show()"
      ],
      "metadata": {
        "id": "yeijLV1byk2z"
      },
      "execution_count": 1,
      "outputs": []
    },
    {
      "cell_type": "markdown",
      "source": [
        "# Sorting Algorithms\n",
        "\n",
        "In this exercise, you are going to implement the *Merge Sort*, *Quick Sort* and *Heap Sort* algorithms.\n",
        "\n",
        "- Each of your sorting functions should accept an unsorted list of numbers and sort it. Of course, you are allowed to add as many helper functions as needed.\n",
        "- Note that arrays (or lists) in the textbook are indexed from 1, whereas in Python (and most other programming languages) they are indexed from 0.\n",
        "- Your implementation should have a good performance with respect to the asymptotic complexity found in the literature.\n",
        "\n",
        "At the bottom of each code block, there is a function call to test your algorithm implementation. Run it to check if your implementation is correct.\n",
        "\n",
        "Below the algorithms in this document, there is a code block that reports runtime statistics. Furthermore, at the end of the document, there are a couple of questions you should answer."
      ],
      "metadata": {
        "id": "__Iv5nnsvP09"
      }
    },
    {
      "cell_type": "markdown",
      "source": [
        "### 1. Merge Sort (2 points)\n",
        "\n",
        "Implement Merge Sort as seen in the lecture.\n",
        "\n",
        "Hint: Start by implementing `merge` and then use it to implement `mergesort`."
      ],
      "metadata": {
        "id": "btOQKCwJzRvH"
      }
    },
    {
      "cell_type": "code",
      "source": [
        "def mergesort(A):\n",
        "  pass\n",
        "\n",
        "run_tests(mergesort)"
      ],
      "metadata": {
        "id": "IReujo1Jxo8e"
      },
      "execution_count": null,
      "outputs": []
    },
    {
      "cell_type": "markdown",
      "source": [
        "### 2. Quick Sort (2 points)\n",
        "\n",
        "Implement Quick Sort as seen in the lecture.\n",
        "\n",
        "Hint: Start by implementing `partition` and then use it to implement `quicksort`."
      ],
      "metadata": {
        "id": "SmnEzYeX7rdi"
      }
    },
    {
      "cell_type": "code",
      "source": [
        "def partition(arr, low, high):\n",
        "    pivot = arr[high] #pivot\n",
        "    i = low - 1  #index for smallest element\n",
        "\n",
        "    for j in range(low, high):\n",
        "        if arr[j] < pivot:\n",
        "            i += 1\n",
        "            arr[i], arr[j] = arr[j], arr[i]  #swap\n",
        "\n",
        "    arr[i + 1], arr[high] = arr[high], arr[i + 1] #put pivot at the correct position\n",
        "    return i + 1  #return pivot index\n",
        "\n",
        "def quicksort(arr):\n",
        "    def _quicksort(arr, low, high):\n",
        "        if low < high:\n",
        "            partition = partition(arr, low, high)  #partition to get pivot index\n",
        "            _quicksort(arr, low, partition - 1)  #sort left half\n",
        "            _quicksort(arr, partition+1, high)  #sort right half\n",
        "\n",
        "    _quicksort(arr, 0, len(arr) - 1)\n",
        "\n",
        "\n",
        "run_tests(quicksort)"
      ],
      "metadata": {
        "id": "AB4eGXwS7vuL",
        "colab": {
          "base_uri": "https://localhost:8080/"
        },
        "outputId": "86719583-2920-4886-a633-9e22882e079f"
      },
      "execution_count": 34,
      "outputs": [
        {
          "output_type": "stream",
          "name": "stdout",
          "text": [
            "executing all tests on quicksort...\n",
            "Test 'empty list' passed!\n",
            "Test 'one element' passed!\n",
            "Test 'digits ascending' passed!\n",
            "Test 'digits descending' passed!\n",
            "Test 'digits shuffled' passed!\n",
            "Test 'all entries the same' passed!\n",
            "Test 'some duplicates' passed!\n",
            "Test 'negative numbers' passed!\n",
            "Test 'float numbers' passed!\n",
            "Test 'mixed numbers' passed!\n",
            "Test 'random numbers 0 (small)' passed!\n",
            "Test 'random numbers 1 (small)' passed!\n",
            "Test 'random numbers 2 (small)' passed!\n",
            "Test 'random numbers 3 (small)' passed!\n",
            "Test 'random numbers 4 (small)' passed!\n",
            "Test 'random numbers 5 (medium)' passed!\n",
            "Test 'random numbers 6 (medium)' passed!\n",
            "Test 'random numbers 7 (medium)' passed!\n",
            "Test 'random numbers 8 (medium)' passed!\n",
            "Test 'random numbers 9 (medium)' passed!\n",
            "Test 'random numbers 10 (large)' passed!\n",
            "Test 'random numbers 11 (large)' passed!\n",
            "Test 'random numbers 12 (large)' passed!\n",
            "Test 'random numbers 13 (large)' passed!\n",
            "Test 'random numbers 14 (large)' passed!\n",
            "quicksort (summary): 25/25 OK, 0/25 ERROR\n"
          ]
        }
      ]
    },
    {
      "cell_type": "markdown",
      "source": [],
      "metadata": {
        "id": "ld_CXmakotIt"
      }
    },
    {
      "cell_type": "markdown",
      "source": [
        "### 3. Heap Sort (3 points)\n",
        "\n",
        "Implement Heap Sort as seen in the lecture.\n",
        "\n",
        "Note that you do not have to define a new class for heaps (unless you\n",
        "want to), instead you can just use a plain list to store the heap and\n",
        "pass along an extra parameter `heap_size` to the functions that need it.\n",
        "\n",
        "Hint: Start by implementing `max_heapify` and `build_max_heap`, and then use them to implement `heapsort`."
      ],
      "metadata": {
        "id": "3VwRfnzM1gu3"
      }
    },
    {
      "cell_type": "code",
      "source": [
        "def heapsort(A):\n",
        "  pass\n",
        "\n",
        "run_tests(heapsort)"
      ],
      "metadata": {
        "id": "lsIff7q51iTq"
      },
      "execution_count": null,
      "outputs": []
    },
    {
      "cell_type": "markdown",
      "source": [
        "### 4. Runtime Comparisons (2 points)\n",
        "\n",
        "The following code will measure the runtime of your algorithm implementations.\n",
        "\n",
        "Compare the reported runtimes. What do you observe? How do you explain your observations?\n",
        "\n",
        "How do the runtimes compare to those from the first assignment sheet (Insertion Sort, Selection Sort, Sink Sort)?"
      ],
      "metadata": {
        "id": "gD-ax-QCWYhh"
      }
    },
    {
      "cell_type": "code",
      "source": [
        "measure_runtime([heapsort, mergesort, quicksort])\n",
        "plot_runtime([heapsort, mergesort, quicksort])"
      ],
      "metadata": {
        "id": "JZXzNKy9WW3K"
      },
      "execution_count": null,
      "outputs": []
    },
    {
      "cell_type": "markdown",
      "source": [
        "**Answer:**\n",
        "\n",
        "***Your answer here.***"
      ],
      "metadata": {
        "id": "JOf5r0M_ItTV"
      }
    },
    {
      "cell_type": "markdown",
      "source": [
        "### 5. Runtime Approximations (1 point)\n",
        "\n",
        "Remark: In this question, we will take Heap Sort as an example, but the results also carry over to Merge Sort or Quick Sort.\n",
        "\n",
        "Using the statistics from the tests, find a constant `c` such that `f_heap(n) = c * n` is a *linear* (!) function which *approximately* describes the runtime of Heap Sort in *seconds*, depending on the input size `n`.\n",
        "\n",
        "Implement the function and look at the runtime plot below. You should notice that `f_heap` seems to be a good approximation of the runtime of Heap Sort (usually not much more than 10% error), at least in the displayed range of `n = 2000, ..., 18000`.\n",
        "\n",
        "Compare to the asymptotic runtime of Heap Sort known from the lecture. How do you explain your observation? Will the approximation still be good with smaller or larger input sizes?"
      ],
      "metadata": {
        "id": "NSs85f3Uqpbq"
      }
    },
    {
      "cell_type": "code",
      "source": [
        "def f_heap(size):\n",
        "  return 0 * size\n",
        "\n",
        "# plot all functions\n",
        "runtimeDict[f_heap.__name__] = [f_heap(size) for size in sizes]\n",
        "plot_runtime([heapsort, mergesort, quicksort], [f_heap])"
      ],
      "metadata": {
        "id": "IUrmxtq7DTVA"
      },
      "execution_count": null,
      "outputs": []
    },
    {
      "cell_type": "markdown",
      "source": [
        "**Answer:**\n",
        "\n",
        "***Your answer here.***"
      ],
      "metadata": {
        "id": "94ZfX-YHUSAL"
      }
    }
  ]
}