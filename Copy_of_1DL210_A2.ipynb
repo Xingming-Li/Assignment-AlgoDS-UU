{
  "cells": [
    {
      "cell_type": "markdown",
      "metadata": {
        "id": "FaPfaovG2yjW"
      },
      "source": [
        "# Using Google Colab\n",
        "\n",
        "Read through the **Getting started** paragraph in the [official documentation](https://colab.research.google.com/). You may also want to take a look into the **More resources** section.\n",
        "\n",
        "To add a new code block or text block, use the buttons in the menus above or hover your mouse between two blocks, where more buttons should appear.\n",
        "\n",
        "To execute all code blocks within this document, select `Runtime -> Run all`. When you submit your solution, this should run without throwing an error.\n",
        "\n",
        "Sometimes, previously defined variables cause trouble in later executions. If this is the case, you can select `Runtime -> Restart runtime` to restart the runtime and erase all previous definitions."
      ]
    },
    {
      "cell_type": "markdown",
      "metadata": {
        "id": "EHTS4x5-pJGK"
      },
      "source": [
        "# Work Distribution\n",
        "\n",
        "***Your answer here. (MANDATORY)***"
      ]
    },
    {
      "cell_type": "markdown",
      "metadata": {
        "id": "HGCavid-yeyz"
      },
      "source": [
        "# Initialisation\n",
        "\n",
        "This section contains code that is later used to test, measure and plot your implementations. You need to run it once to initialise it.\n",
        "\n",
        "⇩ Click here to initialise the code."
      ]
    },
    {
      "cell_type": "code",
      "execution_count": 3,
      "metadata": {
        "id": "yeijLV1byk2z"
      },
      "outputs": [],
      "source": [
        "# tests\n",
        "\n",
        "import random\n",
        "\n",
        "def shuffle(list):\n",
        "  random.shuffle(list)\n",
        "  return list\n",
        "\n",
        "tests = [(name, unsorted, sorted(unsorted)) for (name, unsorted) in [\n",
        "    (\"empty list\", []),\n",
        "    (\"one element\", [42]),\n",
        "    (\"digits ascending\", list(range(10))),\n",
        "    (\"digits descending\", list(reversed(range(10)))),\n",
        "    (\"digits shuffled\", shuffle(list(range(10)))),\n",
        "    (\"all entries the same\", [42 for _ in range(10)]),\n",
        "    (\"some duplicates\", shuffle(list(range(10)) + list(range(5)))),\n",
        "    (\"negative numbers\", shuffle([x - 10 for x in list(range(20))])),\n",
        "    (\"float numbers\", shuffle([x * 3.14 for x in list(range(20))])),\n",
        "    (\"mixed numbers\", shuffle([x * 3.14 for x in list(range(10))] + list(range(10)))),\n",
        "    *[(\"random numbers \" + str(idx) + \" (small)\", [random.randrange(1000) for _ in range(20)]) for idx in range(0, 5)],\n",
        "    *[(\"random numbers \" + str(idx) + \" (medium)\", [random.randrange(10000) for _ in range(200)]) for idx in range(5, 10)],\n",
        "    *[(\"random numbers \" + str(idx) + \" (large)\", [random.randrange(100000) for _ in range(2000)]) for idx in range(10, 15)],\n",
        "]]\n",
        "\n",
        "def run_tests(fun):\n",
        "  print(\"executing all tests on %s...\" % (fun.__name__))\n",
        "  ok = 0\n",
        "  err = 0\n",
        "  for name, input, expected in tests:\n",
        "    copy = input.copy()\n",
        "    try:\n",
        "      fun(copy)\n",
        "    except Exception as e:\n",
        "      print(\"Test '%s' raised an exception!\\n  input:     %s\\n  expected:  %s\\n  exception: %s\" % (name, input, expected, e))\n",
        "      raise e\n",
        "    else:\n",
        "      if copy == expected:\n",
        "        print(\"Test '%s' passed!\" % (name))\n",
        "        ok += 1\n",
        "      else:\n",
        "        print(\"Test '%s' failed!\\n  input:     %s\\n  output:    %s\\n  expected:  %s\" % (name, input, copy, expected))\n",
        "        err +=1\n",
        "  print(\"%s (summary): %d/%d OK, %d/%d ERROR\" % (fun.__name__, ok, len(tests), err, len(tests)))\n",
        "\n",
        "# runtime parameters\n",
        "num_samples = 20\n",
        "sizes = [2000 * i for i in range(1, 10)]\n",
        "\n",
        "# runtime measurement\n",
        "import time\n",
        "runtimeDict = {}\n",
        "def measure_runtime(funs):\n",
        "  inputs = [[[random.random() for _ in range(size)] for _ in range(num_samples)] for size in sizes]\n",
        "\n",
        "  for fun in funs:\n",
        "    runtimes = []\n",
        "    for batch in inputs:\n",
        "      batch_rt = []\n",
        "      for input in batch:\n",
        "        copy = input.copy()\n",
        "        start_time = time.time()\n",
        "        fun(copy)\n",
        "        end_time = time.time()\n",
        "        batch_rt.append(end_time - start_time)\n",
        "      runtimes.append(min(batch_rt))\n",
        "    runtimeDict[fun.__name__] = runtimes\n",
        "\n",
        "# runtime plot\n",
        "import matplotlib.pyplot as plt\n",
        "def plot_runtime(funs, funs_checkered=None):\n",
        "  for fun in funs:\n",
        "    plt.plot(sizes, runtimeDict[fun.__name__], label=fun.__name__)\n",
        "  if funs_checkered:\n",
        "    plt.gca().set_prop_cycle(None)\n",
        "    for fun in funs_checkered:\n",
        "      plt.plot(sizes, runtimeDict[fun.__name__], '--', label=fun.__name__)\n",
        "\n",
        "  plt.xlabel('List Length')\n",
        "  plt.ylabel('Runtime (seconds)')\n",
        "  plt.title('Runtime vs List Length')\n",
        "\n",
        "  plt.legend()\n",
        "  plt.show()"
      ]
    },
    {
      "cell_type": "markdown",
      "metadata": {
        "id": "__Iv5nnsvP09"
      },
      "source": [
        "# Sorting Algorithms\n",
        "\n",
        "In this exercise, you are going to implement the *Merge Sort*, *Quick Sort* and *Heap Sort* algorithms.\n",
        "\n",
        "- Each of your sorting functions should accept an unsorted list of numbers and sort it. Of course, you are allowed to add as many helper functions as needed.\n",
        "- Note that arrays (or lists) in the textbook are indexed from 1, whereas in Python (and most other programming languages) they are indexed from 0.\n",
        "- Your implementation should have a good performance with respect to the asymptotic complexity found in the literature.\n",
        "\n",
        "At the bottom of each code block, there is a function call to test your algorithm implementation. Run it to check if your implementation is correct.\n",
        "\n",
        "Below the algorithms in this document, there is a code block that reports runtime statistics. Furthermore, at the end of the document, there are a couple of questions you should answer."
      ]
    },
    {
      "cell_type": "markdown",
      "metadata": {
        "id": "btOQKCwJzRvH"
      },
      "source": [
        "### 1. Merge Sort (2 points)\n",
        "\n",
        "Implement Merge Sort as seen in the lecture.\n",
        "\n",
        "Hint: Start by implementing `merge` and then use it to implement `mergesort`."
      ]
    },
    {
      "cell_type": "code",
      "execution_count": null,
      "metadata": {
        "id": "IReujo1Jxo8e"
      },
      "outputs": [],
      "source": [
        "def mergesort(A):\n",
        "  pass\n",
        "\n",
        "run_tests(mergesort)"
      ]
    },
    {
      "cell_type": "markdown",
      "metadata": {
        "id": "SmnEzYeX7rdi"
      },
      "source": [
        "### 2. Quick Sort (2 points)\n",
        "\n",
        "Implement Quick Sort as seen in the lecture.\n",
        "\n",
        "Hint: Start by implementing `partition` and then use it to implement `quicksort`."
      ]
    },
    {
      "cell_type": "code",
      "execution_count": null,
      "metadata": {
        "id": "AB4eGXwS7vuL"
      },
      "outputs": [],
      "source": [
        "def quicksort(A):\n",
        "  pass\n",
        "\n",
        "run_tests(quicksort)"
      ]
    },
    {
      "cell_type": "markdown",
      "metadata": {
        "id": "3VwRfnzM1gu3"
      },
      "source": [
        "### 3. Heap Sort (3 points)\n",
        "\n",
        "Implement Heap Sort as seen in the lecture.\n",
        "\n",
        "Note that you do not have to define a new class for heaps (unless you\n",
        "want to), instead you can just use a plain list to store the heap and\n",
        "pass along an extra parameter `heap_size` to the functions that need it.\n",
        "\n",
        "Hint: Start by implementing `max_heapify` and `build_max_heap`, and then use them to implement `heapsort`."
      ]
    },
    {
      "cell_type": "code",
      "execution_count": 40,
      "metadata": {
        "id": "lsIff7q51iTq"
      },
      "outputs": [
        {
          "name": "stdout",
          "output_type": "stream",
          "text": [
            "executing all tests on heapsort...\n",
            "Test 'empty list' passed!\n",
            "Test 'one element' passed!\n",
            "Test 'digits ascending' passed!\n",
            "Test 'digits descending' passed!\n",
            "Test 'digits shuffled' passed!\n",
            "Test 'all entries the same' passed!\n",
            "Test 'some duplicates' passed!\n",
            "Test 'negative numbers' passed!\n",
            "Test 'float numbers' passed!\n",
            "Test 'mixed numbers' passed!\n",
            "Test 'random numbers 0 (small)' passed!\n",
            "Test 'random numbers 1 (small)' passed!\n",
            "Test 'random numbers 2 (small)' passed!\n",
            "Test 'random numbers 3 (small)' passed!\n",
            "Test 'random numbers 4 (small)' passed!\n",
            "Test 'random numbers 5 (medium)' passed!\n",
            "Test 'random numbers 6 (medium)' passed!\n",
            "Test 'random numbers 7 (medium)' passed!\n",
            "Test 'random numbers 8 (medium)' passed!\n",
            "Test 'random numbers 9 (medium)' passed!\n",
            "Test 'random numbers 10 (large)' passed!\n",
            "Test 'random numbers 11 (large)' passed!\n",
            "Test 'random numbers 12 (large)' passed!\n",
            "Test 'random numbers 13 (large)' passed!\n",
            "Test 'random numbers 14 (large)' passed!\n",
            "heapsort (summary): 25/25 OK, 0/25 ERROR\n"
          ]
        }
      ],
      "source": [
        "def max_heapify(A, i, heap_size):\n",
        "  L = 2*i+1\n",
        "  R = 2*i+2\n",
        "  if L < heap_size and A[L] > A[i]:\n",
        "    m = L\n",
        "  else:\n",
        "    m = i\n",
        "  if R < heap_size and A[R] > A[m]:\n",
        "    m = R\n",
        "  if m != i:\n",
        "    A[i], A[m] = A[m], A[i]\n",
        "    max_heapify(A, m, heap_size)\n",
        "\n",
        "def build_max_heap(A, heap_size):\n",
        "  for i in range(len(A) // 2 - 1, -1, -1):\n",
        "    max_heapify(A, i, heap_size)\n",
        "\n",
        "\n",
        "def heapsort(A):\n",
        "  heap_size = len(A)\n",
        "  build_max_heap(A, heap_size)\n",
        "  for i in range(len(A)-1, 0, -1):\n",
        "    A[0], A[i] = A[i], A[0]\n",
        "    heap_size -= 1\n",
        "    max_heapify(A,0,heap_size)\n",
        "\n",
        "\n",
        "run_tests(heapsort)"
      ]
    },
    {
      "cell_type": "markdown",
      "metadata": {
        "id": "gD-ax-QCWYhh"
      },
      "source": [
        "### 4. Runtime Comparisons (2 points)\n",
        "\n",
        "The following code will measure the runtime of your algorithm implementations.\n",
        "\n",
        "Compare the reported runtimes. What do you observe? How do you explain your observations?\n",
        "\n",
        "How do the runtimes compare to those from the first assignment sheet (Insertion Sort, Selection Sort, Sink Sort)?"
      ]
    },
    {
      "cell_type": "code",
      "execution_count": null,
      "metadata": {
        "id": "JZXzNKy9WW3K"
      },
      "outputs": [],
      "source": [
        "measure_runtime([heapsort, mergesort, quicksort])\n",
        "plot_runtime([heapsort, mergesort, quicksort])"
      ]
    },
    {
      "cell_type": "markdown",
      "metadata": {
        "id": "JOf5r0M_ItTV"
      },
      "source": [
        "**Answer:**\n",
        "\n",
        "***Your answer here.***"
      ]
    },
    {
      "cell_type": "markdown",
      "metadata": {
        "id": "NSs85f3Uqpbq"
      },
      "source": [
        "### 5. Runtime Approximations (1 point)\n",
        "\n",
        "Remark: In this question, we will take Heap Sort as an example, but the results also carry over to Merge Sort or Quick Sort.\n",
        "\n",
        "Using the statistics from the tests, find a constant `c` such that `f_heap(n) = c * n` is a *linear* (!) function which *approximately* describes the runtime of Heap Sort in *seconds*, depending on the input size `n`.\n",
        "\n",
        "Implement the function and look at the runtime plot below. You should notice that `f_heap` seems to be a good approximation of the runtime of Heap Sort (usually not much more than 10% error), at least in the displayed range of `n = 2000, ..., 18000`.\n",
        "\n",
        "Compare to the asymptotic runtime of Heap Sort known from the lecture. How do you explain your observation? Will the approximation still be good with smaller or larger input sizes?"
      ]
    },
    {
      "cell_type": "code",
      "execution_count": null,
      "metadata": {
        "id": "IUrmxtq7DTVA"
      },
      "outputs": [],
      "source": [
        "def f_heap(size):\n",
        "  return 0 * size\n",
        "\n",
        "# plot all functions\n",
        "runtimeDict[f_heap.__name__] = [f_heap(size) for size in sizes]\n",
        "plot_runtime([heapsort, mergesort, quicksort], [f_heap])"
      ]
    },
    {
      "cell_type": "markdown",
      "metadata": {
        "id": "94ZfX-YHUSAL"
      },
      "source": [
        "**Answer:**\n",
        "\n",
        "***Your answer here.***"
      ]
    }
  ],
  "metadata": {
    "colab": {
      "collapsed_sections": [
        "HGCavid-yeyz"
      ],
      "provenance": []
    },
    "kernelspec": {
      "display_name": "Python 3",
      "name": "python3"
    },
    "language_info": {
      "codemirror_mode": {
        "name": "ipython",
        "version": 3
      },
      "file_extension": ".py",
      "mimetype": "text/x-python",
      "name": "python",
      "nbconvert_exporter": "python",
      "pygments_lexer": "ipython3",
      "version": "3.10.12"
    }
  },
  "nbformat": 4,
  "nbformat_minor": 0
}
